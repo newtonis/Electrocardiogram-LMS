{
  "nbformat": 4,
  "nbformat_minor": 0,
  "metadata": {
    "colab": {
      "name": "Electrocardiogram_anomalies.ipynb",
      "provenance": [],
      "toc_visible": true,
      "include_colab_link": true
    },
    "kernelspec": {
      "name": "python3",
      "display_name": "Python 3"
    }
  },
  "cells": [
    {
      "cell_type": "markdown",
      "metadata": {
        "id": "view-in-github",
        "colab_type": "text"
      },
      "source": [
        "<a href=\"https://colab.research.google.com/github/taomasgonzalez/Electrocardiogram-LMS/blob/master/Electrocardiogram_anomalies.ipynb\" target=\"_parent\"><img src=\"https://colab.research.google.com/assets/colab-badge.svg\" alt=\"Open In Colab\"/></a>"
      ]
    },
    {
      "cell_type": "markdown",
      "metadata": {
        "id": "Nwb3l0_PSXn6",
        "colab_type": "text"
      },
      "source": [
        "# Detectando anomalías en Electrocardiogramas (ECG)"
      ]
    },
    {
      "cell_type": "markdown",
      "metadata": {
        "id": "wYZopBc1Sf6d",
        "colab_type": "text"
      },
      "source": [
        ""
      ]
    },
    {
      "cell_type": "markdown",
      "metadata": {
        "id": "m20ItMNTSJbY",
        "colab_type": "text"
      },
      "source": [
        "## Imports"
      ]
    },
    {
      "cell_type": "markdown",
      "metadata": {
        "id": "VwZwc-ZOk_Q4",
        "colab_type": "text"
      },
      "source": [
        "Instalamos las librerías necesarias"
      ]
    },
    {
      "cell_type": "code",
      "metadata": {
        "id": "w9tsBoIOk95q",
        "colab_type": "code",
        "outputId": "1c388c25-f2da-402c-f05d-0d267c4ab53e",
        "colab": {
          "base_uri": "https://localhost:8080/",
          "height": 435
        }
      },
      "source": [
        "!pip install wfdb\n",
        "!pip install padasip"
      ],
      "execution_count": 125,
      "outputs": [
        {
          "output_type": "stream",
          "text": [
            "Requirement already satisfied: wfdb in /usr/local/lib/python3.6/dist-packages (2.2.1)\n",
            "Requirement already satisfied: matplotlib>=1.5.1 in /usr/local/lib/python3.6/dist-packages (from wfdb) (3.0.3)\n",
            "Requirement already satisfied: pandas>=0.19.1 in /usr/local/lib/python3.6/dist-packages (from wfdb) (0.24.2)\n",
            "Requirement already satisfied: numpy>=1.11.0 in /usr/local/lib/python3.6/dist-packages (from wfdb) (1.16.5)\n",
            "Requirement already satisfied: sklearn>=0.0 in /usr/local/lib/python3.6/dist-packages (from wfdb) (0.0)\n",
            "Requirement already satisfied: scipy>=0.19.0 in /usr/local/lib/python3.6/dist-packages (from wfdb) (1.3.1)\n",
            "Requirement already satisfied: requests>=2.10.0 in /usr/local/lib/python3.6/dist-packages (from wfdb) (2.21.0)\n",
            "Requirement already satisfied: nose>=1.3.7 in /usr/local/lib/python3.6/dist-packages (from wfdb) (1.3.7)\n",
            "Requirement already satisfied: python-dateutil>=2.1 in /usr/local/lib/python3.6/dist-packages (from matplotlib>=1.5.1->wfdb) (2.5.3)\n",
            "Requirement already satisfied: pyparsing!=2.0.4,!=2.1.2,!=2.1.6,>=2.0.1 in /usr/local/lib/python3.6/dist-packages (from matplotlib>=1.5.1->wfdb) (2.4.2)\n",
            "Requirement already satisfied: kiwisolver>=1.0.1 in /usr/local/lib/python3.6/dist-packages (from matplotlib>=1.5.1->wfdb) (1.1.0)\n",
            "Requirement already satisfied: cycler>=0.10 in /usr/local/lib/python3.6/dist-packages (from matplotlib>=1.5.1->wfdb) (0.10.0)\n",
            "Requirement already satisfied: pytz>=2011k in /usr/local/lib/python3.6/dist-packages (from pandas>=0.19.1->wfdb) (2018.9)\n",
            "Requirement already satisfied: scikit-learn in /usr/local/lib/python3.6/dist-packages (from sklearn>=0.0->wfdb) (0.21.3)\n",
            "Requirement already satisfied: urllib3<1.25,>=1.21.1 in /usr/local/lib/python3.6/dist-packages (from requests>=2.10.0->wfdb) (1.24.3)\n",
            "Requirement already satisfied: chardet<3.1.0,>=3.0.2 in /usr/local/lib/python3.6/dist-packages (from requests>=2.10.0->wfdb) (3.0.4)\n",
            "Requirement already satisfied: idna<2.9,>=2.5 in /usr/local/lib/python3.6/dist-packages (from requests>=2.10.0->wfdb) (2.8)\n",
            "Requirement already satisfied: certifi>=2017.4.17 in /usr/local/lib/python3.6/dist-packages (from requests>=2.10.0->wfdb) (2019.9.11)\n",
            "Requirement already satisfied: six>=1.5 in /usr/local/lib/python3.6/dist-packages (from python-dateutil>=2.1->matplotlib>=1.5.1->wfdb) (1.12.0)\n",
            "Requirement already satisfied: setuptools in /usr/local/lib/python3.6/dist-packages (from kiwisolver>=1.0.1->matplotlib>=1.5.1->wfdb) (41.2.0)\n",
            "Requirement already satisfied: joblib>=0.11 in /usr/local/lib/python3.6/dist-packages (from scikit-learn->sklearn>=0.0->wfdb) (0.14.0)\n",
            "Requirement already satisfied: padasip in /usr/local/lib/python3.6/dist-packages (1.1.1)\n",
            "Requirement already satisfied: numpy in /usr/local/lib/python3.6/dist-packages (from padasip) (1.16.5)\n"
          ],
          "name": "stdout"
        }
      ]
    },
    {
      "cell_type": "markdown",
      "metadata": {
        "id": "ODah1rLdlDCx",
        "colab_type": "text"
      },
      "source": [
        "Importamos las librerías necesarias"
      ]
    },
    {
      "cell_type": "code",
      "metadata": {
        "id": "S1Fv6b6jS0_X",
        "colab_type": "code",
        "colab": {}
      },
      "source": [
        "# https://github.com/MIT-LCP/wfdb-python\n",
        "# https://wfdb.readthedocs.io/en/latest/\n",
        "import numpy as np\n",
        "import wfdb\n",
        "import matplotlib.pyplot as plt\n",
        "import padasip as pa"
      ],
      "execution_count": 0,
      "outputs": []
    },
    {
      "cell_type": "markdown",
      "metadata": {
        "id": "qI7z9zQ3g6_B",
        "colab_type": "text"
      },
      "source": [
        "Clonamos el repositorio de github:"
      ]
    },
    {
      "cell_type": "code",
      "metadata": {
        "id": "hluVAXFOg6VQ",
        "colab_type": "code",
        "outputId": "319b7a93-d220-4010-9bc0-0a051bea62e1",
        "colab": {
          "base_uri": "https://localhost:8080/",
          "height": 34
        }
      },
      "source": [
        "!git clone \"https://github.com/taomasgonzalez/Electrocardiogram-LMS.git\""
      ],
      "execution_count": 127,
      "outputs": [
        {
          "output_type": "stream",
          "text": [
            "fatal: destination path 'Electrocardiogram-LMS' already exists and is not an empty directory.\n"
          ],
          "name": "stdout"
        }
      ]
    },
    {
      "cell_type": "markdown",
      "metadata": {
        "id": "vNYHtgB_SL_p",
        "colab_type": "text"
      },
      "source": [
        "## Obtención de los datos"
      ]
    },
    {
      "cell_type": "markdown",
      "metadata": {
        "id": "UmTtaloigJCD",
        "colab_type": "text"
      },
      "source": [
        "Obtenemos los datos de electrocardiogramas realizados a múltiples pacientes del MIT-BIH Arrhythmia Database (https://physionet.org/content/mitdb/1.0.0/).\n",
        "\n",
        "Para más información sobre su contenido y las particularidades con las que los datos fueron obtenidos, visitar la página."
      ]
    },
    {
      "cell_type": "markdown",
      "metadata": {
        "id": "qlTBKhEXg18b",
        "colab_type": "text"
      },
      "source": [
        "### Definición de funciones de obtención de datos del dataset"
      ]
    },
    {
      "cell_type": "code",
      "metadata": {
        "id": "Cq92-lOISA7U",
        "colab_type": "code",
        "colab": {}
      },
      "source": [
        "def get_data(file_path, sampto='end'):\n",
        "  \"\"\"\n",
        "  get_data devuelve las señales del primer y segundo canal de un archivo que cumple con el estándar wfdb,\n",
        "  la metadata del mismo y las anotaciones del mismo en caso de haberlas (archivo con el mismo nombre pero con extensión .atr)\n",
        "  \n",
        "  Parámetros:\n",
        "    file_path: path del archivo de donde conseguir las señales a leer.\n",
        "    sampto: cantidad de samples a leer. Si 'end', lee todas las samples del archivo.\n",
        "  Returns:\n",
        "    signal_0: Señal del primer canal.\n",
        "    signal_1: Señal del segundo canal.\n",
        "    metadata: metadata que contiene, entre otras cosas, la sample frequency utilizada para tomar los datos.\n",
        "    annotation: anotaciones correspondientes al archivo\n",
        "  \"\"\"\n",
        "  # Cada columna de la matriz signals es un canal de las señales grabadas del paciente(signals[0] es el primer canal)\n",
        "  # metadata tiene información como la sample frequency, importante para el resto del trabajo.\n",
        "  signals, metadata = wfdb.rdsamp(record_name=file_path, sampto=sampto)\n",
        "  annotation = wfdb.rdann(record_name=file_path, extension='atr', sampto=sampto)\n",
        "  \n",
        "  return signals[:,0], signals[:,1], metadata, annotation"
      ],
      "execution_count": 0,
      "outputs": []
    },
    {
      "cell_type": "markdown",
      "metadata": {
        "id": "ZuynzSBr7Etp",
        "colab_type": "text"
      },
      "source": [
        "### Obtención de las señales"
      ]
    },
    {
      "cell_type": "markdown",
      "metadata": {
        "id": "gPogWRtuqylG",
        "colab_type": "text"
      },
      "source": [
        "Definimos que archivos obtendremos están presentes en dataset, quer serán los archivos que extraeremos"
      ]
    },
    {
      "cell_type": "code",
      "metadata": {
        "id": "8uWZ7-Mzqs5e",
        "colab_type": "code",
        "colab": {}
      },
      "source": [
        "all_signals = {str(i): dict() for j in (range(100, 125), range(200, 224)) for i in j}\n",
        "# borramos del dictionary a los archivos que no estan pero que fueron agregados por comodidad\n",
        "for i in ['110', '120', '204','206','211','216','218']: del all_signals[i]   \n",
        "all_signals['228'] = None\n",
        "for i in range(230,235) : all_signals[str(i)] = None"
      ],
      "execution_count": 0,
      "outputs": []
    },
    {
      "cell_type": "markdown",
      "metadata": {
        "id": "6DvQpW8xf9kI",
        "colab_type": "text"
      },
      "source": [
        "Obtenemos las señales de cada canal, en conjunto con su metadata y las anotaciones que corresponden a la presencia de anomalía o no."
      ]
    },
    {
      "cell_type": "code",
      "metadata": {
        "id": "QaUu3AfqUFKM",
        "colab_type": "code",
        "colab": {}
      },
      "source": [
        "for signal_name in all_signals.keys():\n",
        "  upper_signal, lower_signal, metadata, annotations =  get_data(file_path='/content/Electrocardiogram-LMS/data/' + signal_name,sampto=None)\n",
        "  all_signals[signal_name] = {'upper' : upper_signal, 'lower' : lower_signal, 'meta':metadata, 'annot': annotations} "
      ],
      "execution_count": 0,
      "outputs": []
    },
    {
      "cell_type": "markdown",
      "metadata": {
        "id": "50Ae_uqKf2Cr",
        "colab_type": "text"
      },
      "source": [
        "Visualizamos alguna de las señales:\n",
        "\n",
        "Hacemos un plot de los primeros 1000 samples de una de las señales de uno de los pacientes"
      ]
    },
    {
      "cell_type": "code",
      "metadata": {
        "id": "QgddDbxMf89R",
        "colab_type": "code",
        "outputId": "f0c54b8d-cea3-41d0-9b47-9eb051d632f9",
        "colab": {
          "base_uri": "https://localhost:8080/",
          "height": 0
        }
      },
      "source": [
        "plt.plot(all_signals[list(all_signals.keys())[0]]['upper'][:1000])"
      ],
      "execution_count": 131,
      "outputs": [
        {
          "output_type": "execute_result",
          "data": {
            "text/plain": [
              "[<matplotlib.lines.Line2D at 0x7ff24708cd68>]"
            ]
          },
          "metadata": {
            "tags": []
          },
          "execution_count": 131
        },
        {
          "output_type": "display_data",
          "data": {
            "image/png": "[encoded data removed]",
            "text/plain": [
              "<Figure size 432x288 with 1 Axes>"
            ]
          },
          "metadata": {
            "tags": []
          }
        }
      ]
    },
    {
      "cell_type": "markdown",
      "metadata": {
        "id": "K9knumiI3Wkw",
        "colab_type": "text"
      },
      "source": [
        "### Anotaciones\n",
        "\n",
        "Visualizamos la clase anotaciones, cómo está estructurada internamente.\n"
      ]
    },
    {
      "cell_type": "code",
      "metadata": {
        "id": "Q7OE90KX5F3a",
        "colab_type": "code",
        "colab": {
          "base_uri": "https://localhost:8080/",
          "height": 0
        },
        "outputId": "0eb44bb4-a3fa-4aa5-a49a-8d92cbee7d78"
      },
      "source": [
        "anot = all_signals[list(all_signals.keys())[0]]['annot']\n",
        "attsr = vars(anot)\n",
        "print ('\\n'.join(\"%s: %s\" % item for item in attrs.items()))"
      ],
      "execution_count": 132,
      "outputs": [
        {
          "output_type": "stream",
          "text": [
            "record_name: 100\n",
            "extension: atr\n",
            "sample: [    18     77    370 ... 649484 649734 649991]\n",
            "symbol: ['A', 'A', 'A', 'A', 'A', 'A', 'A', 'A', 'A', 'A', 'A', 'A', 'A', 'A', 'A', 'A', 'A', 'A', 'A', 'A', 'A', 'A', 'A', 'A', 'A', 'A', 'A', 'A', 'A', 'A', 'A', 'A', 'A', 'A', 'A']\n",
            "subtype: [0 0 0 ... 0 0 0]\n",
            "chan: [0 0 0 ... 0 0 0]\n",
            "num: [0 0 0 ... 0 0 0]\n",
            "aux_note: ['(N\\x00', '', '', '', '', '', '', '', '', '', '', '', '', '', '', '', '', '', '', '', '', '', '', '', '', '', '', '', '', '', '', '', '', '', '', '', '', '', '', '', '', '', '', '', '', '', '', '', '', '', '', '', '', '', '', '', '', '', '', '', '', '', '', '', '', '', '', '', '', '', '', '', '', '', '', '', '', '', '', '', '', '', '', '', '', '', '', '', '', '', '', '', '', '', '', '', '', '', '', '', '', '', '', '', '', '', '', '', '', '', '', '', '', '', '', '', '', '', '', '', '', '', '', '', '', '', '', '', '', '', '', '', '', '', '', '', '', '', '', '', '', '', '', '', '', '', '', '', '', '', '', '', '', '', '', '', '', '', '', '', '', '', '', '', '', '', '', '', '', '', '', '', '', '', '', '', '', '', '', '', '', '', '', '', '', '', '', '', '', '', '', '', '', '', '', '', '', '', '', '', '', '', '', '', '', '', '', '', '', '', '', '', '', '', '', '', '', '', '', '', '', '', '', '', '', '', '', '', '', '', '', '', '', '', '', '', '', '', '', '', '', '', '', '', '', '', '', '', '', '', '', '', '', '', '', '', '', '', '', '', '', '', '', '', '', '', '', '', '', '', '', '', '', '', '', '', '', '', '', '', '', '', '', '', '', '', '', '', '', '', '', '', '', '', '', '', '', '', '', '', '', '', '', '', '', '', '', '', '', '', '', '', '', '', '', '', '', '', '', '', '', '', '', '', '', '', '', '', '', '', '', '', '', '', '', '', '', '', '', '', '', '', '', '', '', '', '', '', '', '', '', '', '', '', '', '', '', '', '', '', '', '', '', '', '', '', '', '', '', '', '', '', '', '', '', '', '', '', '', '', '', '', '', '', '', '', '', '', '', '', '', '', '', '', '', '', '', '', '', '', '', '', '', '', '', '', '', '', '', '', '', '', '', '', '', '', '', '', '', '', '', '', '', '', '', '', '', '', '', '', '', '', '', '', '', '', '', '', '', '', '', '', '', '', '', '', '', '', '', '', '', '', '', '', '', '', '', '', '', '', '', '', '', '', '', '', '', '', '', '', '', '', '', '', '', '', '', '', '', '', '', '', '', '', '', '', '', '', '', '', '', '', '', '', '', '', '', '', '', '', '', '', '', '', '', '', '', '', '', '', '', '', '', '', '', '', '', '', '', '', '', '', '', '', '', '', '', '', '', '', '', '', '', '', '', '', '', '', '', '', '', '', '', '', '', '', '', '', '', '', '', '', '', '', '', '', '', '', '', '', '', '', '', '', '', '', '', '', '', '', '', '', '', '', '', '', '', '', '', '', '', '', '', '', '', '', '', '', '', '', '', '', '', '', '', '', '', '', '', '', '', '', '', '', '', '', '', '', '', '', '', '', '', '', '', '', '', '', '', '', '', '', '', '', '', '', '', '', '', '', '', '', '', '', '', '', '', '', '', '', '', '', '', '', '', '', '', '', '', '', '', '', '', '', '', '', '', '', '', '', '', '', '', '', '', '', '', '', '', '', '', '', '', '', '', '', '', '', '', '', '', '', '', '', '', '', '', '', '', '', '', '', '', '', '', '', '', '', '', '', '', '', '', '', '', '', '', '', '', '', '', '', '', '', '', '', '', '', '', '', '', '', '', '', '', '', '', '', '', '', '', '', '', '', '', '', '', '', '', '', '', '', '', '', '', '', '', '', '', '', '', '', '', '', '', '', '', '', '', '', '', '', '', '', '', '', '', '', '', '', '', '', '', '', '', '', '', '', '', '', '', '', '', '', '', '', '', '', '', '', '', '', '', '', '', '', '', '', '', '', '', '', '', '', '', '', '', '', '', '', '', '', '', '', '', '', '', '', '', '', '', '', '', '', '', '', '', '', '', '', '', '', '', '', '', '', '', '', '', '', '', '', '', '', '', '', '', '', '', '', '', '', '', '', '', '', '', '', '', '', '', '', '', '', '', '', '', '', '', '', '', '', '', '', '', '', '', '', '', '', '', '', '', '', '', '', '', '', '', '', '', '', '', '', '', '', '', '', '', '', '', '', '', '', '', '', '', '', '', '', '', '', '', '', '', '', '', '', '', '', '', '', '', '', '', '', '', '', '', '', '', '', '', '', '', '', '', '', '', '', '', '', '', '', '', '', '', '', '', '', '', '', '', '', '', '', '', '', '', '', '', '', '', '', '', '', '', '', '', '', '', '', '', '', '', '', '', '', '', '', '', '', '', '', '', '', '', '', '', '', '', '', '', '', '', '', '', '', '', '', '', '', '', '', '', '', '', '', '', '', '', '', '', '', '', '', '', '', '', '', '', '', '', '', '', '', '', '', '', '', '', '', '', '', '', '', '', '', '', '', '', '', '', '', '', '', '', '', '', '', '', '', '', '', '', '', '', '', '', '', '', '', '', '', '', '', '', '', '', '', '', '', '', '', '', '', '', '', '', '', '', '', '', '', '', '', '', '', '', '', '', '', '', '', '', '', '', '', '', '', '', '', '', '', '', '', '', '', '', '', '', '', '', '', '', '', '', '', '', '', '', '', '', '', '', '', '', '', '', '', '', '', '', '', '', '', '', '', '', '', '', '', '', '', '', '', '', '', '', '', '', '', '', '', '', '', '', '', '', '', '', '', '', '', '', '', '', '', '', '', '', '', '', '', '', '', '', '', '', '', '', '', '', '', '', '', '', '', '', '', '', '', '', '', '', '', '', '', '', '', '', '', '', '', '', '', '', '', '', '', '', '', '', '', '', '', '', '', '', '', '', '', '', '', '', '', '', '', '', '', '', '', '', '', '', '', '', '', '', '', '', '', '', '', '', '', '', '', '', '', '', '', '', '', '', '', '', '', '', '', '', '', '', '', '', '', '', '', '', '', '', '', '', '', '', '', '', '', '', '', '', '', '', '', '', '', '', '', '', '', '', '', '', '', '', '', '', '', '', '', '', '', '', '', '', '', '', '', '', '', '', '', '', '', '', '', '', '', '', '', '', '', '', '', '', '', '', '', '', '', '', '', '', '', '', '', '', '', '', '', '', '', '', '', '', '', '', '', '', '', '', '', '', '', '', '', '', '', '', '', '', '', '', '', '', '', '', '', '', '', '', '', '', '', '', '', '', '', '', '', '', '', '', '', '', '', '', '', '', '', '', '', '', '', '', '', '', '', '', '', '', '', '', '', '', '', '', '', '', '', '', '', '', '', '', '', '', '', '', '', '', '', '', '', '', '', '', '', '', '', '', '', '', '', '', '', '', '', '', '', '', '', '', '', '', '', '', '', '', '', '', '', '', '', '', '', '', '', '', '', '', '', '', '', '', '', '', '', '', '', '', '', '', '', '', '', '', '', '', '', '', '', '', '', '', '', '', '', '', '', '', '', '', '', '', '', '', '', '', '', '', '', '', '', '', '', '', '', '', '', '', '', '', '', '', '', '', '', '', '', '', '', '', '', '', '', '', '', '', '', '', '', '', '', '', '', '', '', '', '', '', '', '', '', '', '', '', '', '', '', '', '', '', '', '', '', '', '', '', '', '', '', '', '', '', '', '', '', '', '', '', '', '', '', '', '', '', '', '', '', '', '', '', '', '', '', '', '', '', '', '', '', '', '', '', '', '', '', '', '', '', '', '', '', '', '', '', '', '', '', '', '', '', '', '', '', '', '', '', '', '', '', '', '', '', '', '', '', '', '', '', '', '', '', '', '', '', '', '', '', '', '', '', '', '', '', '', '', '', '', '', '', '', '', '', '', '', '', '', '', '', '', '', '', '', '', '', '', '', '', '', '', '', '', '', '', '', '', '', '', '', '', '', '', '', '', '', '', '', '', '', '', '', '', '', '', '', '', '', '', '', '', '', '', '', '', '', '', '', '', '', '', '', '', '', '', '', '', '', '', '', '', '', '', '', '', '', '', '', '', '', '', '', '', '', '', '', '', '', '', '', '', '', '', '', '', '', '', '', '', '', '', '', '', '', '', '', '', '', '', '', '', '', '', '', '', '', '', '', '', '', '', '', '', '', '', '', '', '', '', '', '', '', '', '', '', '', '', '', '', '', '', '', '', '', '', '', '', '', '', '', '', '', '', '', '', '', '', '', '', '', '', '', '', '', '', '', '', '', '', '', '', '', '', '', '', '', '', '', '', '', '', '', '', '', '', '', '', '', '', '', '', '', '', '', '', '', '', '', '', '', '', '', '', '', '', '', '', '', '', '', '', '', '', '', '', '', '', '', '', '', '', '', '', '', '', '', '', '', '', '', '', '', '', '', '', '', '', '', '', '', '', '', '', '', '', '', '', '', '', '', '', '', '', '', '', '', '', '', '', '', '', '', '', '', '', '', '', '', '', '', '', '', '', '', '', '', '', '', '', '', '', '', '', '', '', '', '', '', '', '', '', '', '', '', '', '', '', '', '', '', '', '', '', '', '', '', '', '', '', '', '', '', '', '', '', '', '', '', '', '', '', '', '', '', '', '', '', '', '', '', '', '', '', '', '', '', '', '', '', '', '', '', '', '', '', '', '', '', '', '', '', '', '', '', '', '', '', '', '', '', '', '', '', '', '', '', '', '', '', '', '', '', '', '', '', '', '', '', '', '', '', '', '', '', '', '', '', '', '', '', '', '', '', '', '', '', '', '', '', '', '', '', '', '', '', '', '', '', '', '', '', '', '', '', '', '', '', '', '', '', '', '', '', '', '', '', '', '', '', '', '', '', '', '', '', '', '', '', '', '', '', '', '', '', '', '', '', '', '', '', '', '', '', '', '', '', '', '', '', '', '', '', '', '', '', '', '', '', '', '', '', '', '', '', '', '', '', '', '', '', '', '', '', '', '', '', '', '', '', '', '', '', '', '', '', '', '', '', '', '', '', '', '', '', '', '', '', '', '', '', '', '', '', '', '', '', '', '', '', '', '', '', '', '', '', '', '', '', '', '', '', '', '', '', '', '', '', '', '', '', '', '', '', '', '', '', '', '', '', '', '', '', '', '', '', '', '', '', '', '', '', '', '', '', '', '', '', '', '', '', '', '', '', '', '', '', '', '', '', '', '', '', '', '', '', '', '', '', '', '', '', '', '', '', '', '', '', '', '', '', '', '', '', '', '', '', '', '', '', '', '', '', '', '', '', '', '', '', '', '', '', '', '']\n",
            "fs: 360\n",
            "label_store: None\n",
            "description: None\n",
            "custom_labels: None\n",
            "contained_labels: None\n",
            "ann_len: 2274\n"
          ],
          "name": "stdout"
        }
      ]
    },
    {
      "cell_type": "markdown",
      "metadata": {
        "id": "lq1eGWMC45D3",
        "colab_type": "text"
      },
      "source": [
        "Cambiamos todas las anotaciones a un formato binario de tipo \"anómala\" ('A') o \"no anómala\" ('N'). \n",
        "Visualizamos luego el resultado de un fragmento de una señal de un paciente."
      ]
    },
    {
      "cell_type": "code",
      "metadata": {
        "id": "YhGYPhEMtFhb",
        "colab_type": "code",
        "outputId": "d6f7b477-e0d1-4cca-841c-c81035dd38c1",
        "colab": {
          "base_uri": "https://localhost:8080/",
          "height": 0
        }
      },
      "source": [
        "for key in all_signals.keys():\n",
        "  anot = all_signals[key]['annot']\n",
        "  anot.symbol = ['A' if i is not 'N' else 'N' for i in anot.symbol]\n",
        "\n",
        "anot = all_signals[list(all_signals.keys())[0]]['annot']\n",
        "plt.plot(anot.symbol[0:1000])"
      ],
      "execution_count": 133,
      "outputs": [
        {
          "output_type": "execute_result",
          "data": {
            "text/plain": [
              "[<matplotlib.lines.Line2D at 0x7ff246ffccc0>]"
            ]
          },
          "metadata": {
            "tags": []
          },
          "execution_count": 133
        },
        {
          "output_type": "display_data",
          "data": {
            "image/png": "[encoded data removed]",
            "text/plain": [
              "<Figure size 432x288 with 1 Axes>"
            ]
          },
          "metadata": {
            "tags": []
          }
        }
      ]
    },
    {
      "cell_type": "markdown",
      "metadata": {
        "id": "8d5QB4-vSNtp",
        "colab_type": "text"
      },
      "source": [
        "## Implementación del filtro adaptativo"
      ]
    },
    {
      "cell_type": "code",
      "metadata": {
        "id": "TUFxamWS_fhN",
        "colab_type": "code",
        "colab": {}
      },
      "source": [
        "# https://matousc89.github.io/padasip/sources/filters/lms.html#references\n",
        "# https://matousc89.github.io/padasip/_modules/padasip/filters/lms.html#FilterLMS\n",
        "def lms_predictor(input_signal, desired_response, filter_size, mu=0.1, initial_w):  \n",
        "  lms_filter = pa.filters.FilterLMS(n=filter_size, mu=mu, w=initial_w)\n",
        "  y, e, w = lms_filter.run(d=desired_response, x=input_signal)\n",
        "  return y ,e ,w   "
      ],
      "execution_count": 0,
      "outputs": []
    },
    {
      "cell_type": "markdown",
      "metadata": {
        "id": "UDuzwl8xMqFS",
        "colab_type": "text"
      },
      "source": [
        "## Implementación del detector de anomalías"
      ]
    },
    {
      "cell_type": "markdown",
      "metadata": {
        "id": "ch4Tr8N2MzAp",
        "colab_type": "text"
      },
      "source": [
        "### Implementación del detector"
      ]
    },
    {
      "cell_type": "code",
      "metadata": {
        "id": "O6a2wcDRMyVi",
        "colab_type": "code",
        "colab": {}
      },
      "source": [
        "def detect_anomalies(input_signal):\n",
        "  anomalies_times = []  # numero de samples en los que se detecta una anomalía\n",
        "#   y ,e ,w = lms_predictor(input_signal, desired_response, filter_size, mu=0.1, initial_w)\n",
        "  # hay que detectar una cota del error o la derivada o algun criterio que nos permita saber si la señal es anomala\n",
        "  return anomalies_times"
      ],
      "execution_count": 0,
      "outputs": []
    },
    {
      "cell_type": "markdown",
      "metadata": {
        "id": "kREjwRZVM1QK",
        "colab_type": "text"
      },
      "source": [
        "### Cálculo de performance del detector"
      ]
    },
    {
      "cell_type": "code",
      "metadata": {
        "id": "Eo-f31bVNDGr",
        "colab_type": "code",
        "colab": {}
      },
      "source": [
        "def check_detector_performance(real_anomalies, detected_anomalies):\n",
        "  pass"
      ],
      "execution_count": 0,
      "outputs": []
    },
    {
      "cell_type": "markdown",
      "metadata": {
        "id": "2roZt2CNSP4K",
        "colab_type": "text"
      },
      "source": [
        "## Probando al detector"
      ]
    },
    {
      "cell_type": "code",
      "metadata": {
        "id": "HDw8D2coR0vr",
        "colab_type": "code",
        "colab": {}
      },
      "source": [
        ""
      ],
      "execution_count": 0,
      "outputs": []
    },
    {
      "cell_type": "markdown",
      "metadata": {
        "id": "gmVLdGk-SVCs",
        "colab_type": "text"
      },
      "source": [
        "## Resultados"
      ]
    }
  ]
}